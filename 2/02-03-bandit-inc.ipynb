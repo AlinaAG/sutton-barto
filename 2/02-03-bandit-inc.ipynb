{
 "cells": [
  {
   "cell_type": "markdown",
   "metadata": {},
   "source": [
    "# The k-Armed Bandit Problem"
   ]
  },
  {
   "cell_type": "markdown",
   "metadata": {},
   "source": [
    "### 10-armed bandits testbed"
   ]
  },
  {
   "cell_type": "markdown",
   "metadata": {},
   "source": [
    "Create a set of 2000 randomly generated 10-armed bandit models.\n",
    "Each row stores the model of one k-armed bandit (a slot machine with k arms), each cell in the row stores the true Expected value of the reward given by each of the k possible actions that the agent (player) can do on the bandit (pull one of the k levers), this true expected value (true mean) is distributed normally with mean 0 and variance 1. "
   ]
  },
  {
   "cell_type": "code",
   "execution_count": 3,
   "metadata": {
    "collapsed": false
   },
   "outputs": [],
   "source": [
    "from __future__ import division\n",
    "import numpy as np\n",
    "import matplotlib.pyplot as plt\n",
    "%matplotlib inline"
   ]
  },
  {
   "cell_type": "code",
   "execution_count": 4,
   "metadata": {
    "collapsed": false
   },
   "outputs": [
    {
     "data": {
      "text/plain": [
       "array([[ 0.68584993,  0.08536502, -0.54809094,  1.18119147, -0.54296115,\n",
       "         0.69395547,  0.53901322, -1.51340444, -0.37063819,  0.07828604]])"
      ]
     },
     "execution_count": 4,
     "metadata": {},
     "output_type": "execute_result"
    }
   ],
   "source": [
    "n = 2000\n",
    "k = 10\n",
    "models = np.random.normal(0.0, 1.0, size=(n, k))\n",
    "\n",
    "models[0:1,:]"
   ]
  },
  {
   "cell_type": "markdown",
   "metadata": {},
   "source": [
    "The actual reward from a bandit is stochastic, the algorithm learns a model of the Expected reward, and the actual reward is random with q∗(At) as mean (expectation) and variance 1."
   ]
  },
  {
   "cell_type": "code",
   "execution_count": 5,
   "metadata": {
    "collapsed": true
   },
   "outputs": [],
   "source": [
    "# the bandit returns the actual reward from the true model\n",
    "def bandit(row, a):\n",
    "    r = models[row, a] + np.random.normal()\n",
    "    return r"
   ]
  },
  {
   "cell_type": "markdown",
   "metadata": {},
   "source": [
    "## Action-Value Methods\n",
    "### ε-greedy method - Incremental implementation (Sutton-Barto 2.3)"
   ]
  },
  {
   "cell_type": "markdown",
   "metadata": {},
   "source": [
    "Greedy action: q∗(At), the action with maximum reward."
   ]
  },
  {
   "cell_type": "code",
   "execution_count": 6,
   "metadata": {
    "collapsed": false
   },
   "outputs": [
    {
     "name": "stdout",
     "output_type": "stream",
     "text": [
      "[3] 1.18119147198\n"
     ]
    }
   ],
   "source": [
    "# greedy action index\n",
    "q_opt = np.argmax(models, 1)  # max along columns (max of each row)\n",
    "print q_opt[0:1], models[0, q_opt[0]]"
   ]
  },
  {
   "cell_type": "markdown",
   "metadata": {},
   "source": [
    "When a greedy method is applied to the 10-armed testbed, the algorithm chooses the action mith maximum expected reward, this action is called the greedy action q∗(At). Note that the actual reward is stochastic, the model only knows the Expected reward, and the actual reward is random with q∗(At) as mean (expectation) and variance 1."
   ]
  },
  {
   "cell_type": "code",
   "execution_count": 7,
   "metadata": {
    "collapsed": true
   },
   "outputs": [],
   "source": [
    "# ε-greedy method (Sutton-Barto 2.2)\n",
    "def epsilon_greedy(Q, epsilon):\n",
    "    a =  np.random.choice(range(10)) if np.random.sample() < epsilon else np.argmax(Q)\n",
    "    return a"
   ]
  },
  {
   "cell_type": "markdown",
   "metadata": {},
   "source": [
    "The estimator of the action values is the averages of the observed rewards for each action.\n",
    "To compute these estimators with minimum computational cost, we apply an incremental formula for updating averages with small, constant computation required to process\n",
    "each new reward."
   ]
  },
  {
   "cell_type": "code",
   "execution_count": 8,
   "metadata": {
    "collapsed": true
   },
   "outputs": [],
   "source": [
    "def update_rule(old_estimate, target, step_size):\n",
    "    new_estimate = old_estimate + step_size * (target - old_estimate)\n",
    "    return new_estimate"
   ]
  },
  {
   "cell_type": "code",
   "execution_count": 17,
   "metadata": {
    "collapsed": false
   },
   "outputs": [],
   "source": [
    "Qs = np.zeros(shape=(n, k))\n",
    "num_steps = 1000\n",
    "epsilon = .1\n",
    " \n",
    "# ratio for plotting performance\n",
    "ratio_est_vs_opt = np.zeros(shape=(n, num_steps))\n",
    "# accumulators for plotting performance\n",
    "rewards_accum =   np.zeros(shape=(n, num_steps))\n",
    "opt_rewards_accum =   np.zeros(shape=(n, num_steps)) + 1/10**6 # avoid division by zero at step zero\n",
    "    \n",
    "# for each model\n",
    "for i in range(n):\n",
    "    N = np.zeros(k) # action_counters\n",
    "    \n",
    "    # 1 run\n",
    "    for t in range(num_steps):       \n",
    "        # estimate best action, based on estimated action-values, with epsilon-greedy method\n",
    "        a = epsilon_greedy(Qs[i,:], epsilon)\n",
    "        \n",
    "        # act and collect the actual reward from the bandit\n",
    "        reward = bandit(i, a)\n",
    "\n",
    "        # update our estimate of the action value \n",
    "        N[a] += 1\n",
    "        Qs[i, a] = update_rule(Qs[i, a], reward, 1/N[a])\n",
    "              \n",
    "        # store the accumulators to calculate the ratio of epsilon-greedy vs optimal at each step for plotting\n",
    "        if t > 0:\n",
    "            rewards_accum[i, t] = rewards_accum[i, t-1] + reward\n",
    "            opt_rewards_accum[i, t] = opt_rewards_accum[i, t-1] + bandit(i, q_opt[i])\n",
    "\n",
    "# Compute ratio of cumulative rewards\n",
    "# The stationary bandit test bed often contains commulative rewards that are close to zero\n",
    "# I average over the 2000 models before computingthe ratio\n",
    "\n",
    "# mean along rows (avg of each step over all models)\n",
    "avg_rewards_accum = np.mean(rewards_accum, 0)\n",
    "avg_opt_rewards_accum = np.mean(opt_rewards_accum, 0)\n",
    "\n",
    "#  average performance over all models\n",
    "avg_ratio_est_vs_opt = avg_rewards_accum / avg_opt_rewards_accum"
   ]
  },
  {
   "cell_type": "code",
   "execution_count": 18,
   "metadata": {
    "collapsed": false
   },
   "outputs": [
    {
     "data": {
      "text/plain": [
       "[<matplotlib.lines.Line2D at 0x7f30f1396a50>]"
      ]
     },
     "execution_count": 18,
     "metadata": {},
     "output_type": "execute_result"
    },
    {
     "data": {
      "image/png": "[encoded data removed]",
      "text/plain": [
       "<matplotlib.figure.Figure at 0x7f30f149d050>"
      ]
     },
     "metadata": {},
     "output_type": "display_data"
    }
   ],
   "source": [
    "plt.plot(avg_ratio_est_vs_opt)"
   ]
  },
  {
   "cell_type": "code",
   "execution_count": null,
   "metadata": {
    "collapsed": true
   },
   "outputs": [],
   "source": []
  }
 ],
 "metadata": {
  "anaconda-cloud": {},
  "kernelspec": {
   "display_name": "Python [conda root]",
   "language": "python",
   "name": "conda-root-py"
  },
  "language_info": {
   "codemirror_mode": {
    "name": "ipython",
    "version": 2
   },
   "file_extension": ".py",
   "mimetype": "text/x-python",
   "name": "python",
   "nbconvert_exporter": "python",
   "pygments_lexer": "ipython2",
   "version": "2.7.12"
  }
 },
 "nbformat": 4,
 "nbformat_minor": 0
}
