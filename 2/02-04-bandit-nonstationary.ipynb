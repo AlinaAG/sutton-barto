{
 "cells": [
  {
   "cell_type": "markdown",
   "metadata": {},
   "source": [
    "# The k-Armed Bandit Problem"
   ]
  },
  {
   "cell_type": "markdown",
   "metadata": {},
   "source": [
    "## Action-Value Methods\n",
    "The true value of an action is the mean reward when that action is selected. One natural way to estimate this is by averaging the rewards actually received.\n",
    "\n",
    "### Nonstationary Bandit (Sutton-Barto 2.4)\n",
    "But the averaging method only makes sense if the bandit is stationary If the expected value of the actions of the bandit change over time then it makes sense to weight recent rewards more heavily than long-past ones. One of the most popular ways of doing this is to use a constant step-size parameter. \n",
    " - Qn+1 = Qn + α[Rn − Qn],\n",
    " where the step-size parameter α ∈ (0, 1] is constant.\n"
   ]
  },
  {
   "cell_type": "markdown",
   "metadata": {},
   "source": [
    "The second condition of convergence (summation of the series of alpha squared) is not met, indicating that the estimates never completely converge but continue to vary in response to the most recently received rewards; this is actually desirable in a nonstationary environment."
   ]
  },
  {
   "cell_type": "markdown",
   "metadata": {},
   "source": [
    "Exercise 2.3 (programming) Design and conduct an experiment to demonstrate\n",
    "the difficulties that sample-average methods have for nonstationary problems. Use a\n",
    "modified version of the 10-armed testbed in which all the q∗(a) start out equal and\n",
    "then take independent random walks. Prepare plots like Figure 2.2 for an actionvalue\n",
    "method using sample averages, incrementally computed by α = 1/n, and another\n",
    "action-value method using a constant step-size parameter, α = 0.1. Use ε = 0.1 and,\n",
    "if necessary, runs longer than 1000 steps"
   ]
  },
  {
   "cell_type": "markdown",
   "metadata": {},
   "source": [
    "### Nonstationary bandits testbed"
   ]
  },
  {
   "cell_type": "markdown",
   "metadata": {},
   "source": [
    "Create a set of 2000 randomly generated 10-armed bandit models with equal value for all actions.\n",
    "Each row stores the model of one k-armed bandit (a slot machine with k arms), each cell in the row stores the true Expected value of the reward given by each of the k possible actions that the agent (player) can do on the bandit (pull one of the k levers), this true expected value (true mean) starts equal for all actions nat start changing with brownian motion. "
   ]
  },
  {
   "cell_type": "code",
   "execution_count": 1,
   "metadata": {
    "collapsed": false
   },
   "outputs": [],
   "source": [
    "from __future__ import division\n",
    "import numpy as np\n",
    "import matplotlib.pyplot as plt\n",
    "%matplotlib inline"
   ]
  },
  {
   "cell_type": "code",
   "execution_count": 2,
   "metadata": {
    "collapsed": false
   },
   "outputs": [
    {
     "data": {
      "text/plain": [
       "array([[ 0.,  0.,  0.,  0.,  0.,  0.,  0.,  0.,  0.,  0.]])"
      ]
     },
     "execution_count": 2,
     "metadata": {},
     "output_type": "execute_result"
    }
   ],
   "source": [
    "n = 2000\n",
    "k = 10\n",
    "models = np.zeros(shape=(n, k))\n",
    "\n",
    "models[0:1,:]"
   ]
  },
  {
   "cell_type": "code",
   "execution_count": 3,
   "metadata": {
    "collapsed": false
   },
   "outputs": [
    {
     "data": {
      "text/plain": [
       "array([[-0.82836506,  1.20782604, -0.83646078,  0.40887938, -0.17423901,\n",
       "        -1.32608101, -1.32964007,  0.48423321,  0.43460239,  0.03284972]])"
      ]
     },
     "execution_count": 3,
     "metadata": {},
     "output_type": "execute_result"
    }
   ],
   "source": [
    "def model_random_walk(i):\n",
    "    models[i,:] += np.random.normal(size=(k))\n",
    "\n",
    "model_random_walk(0)\n",
    "models[0:1,:]"
   ]
  },
  {
   "cell_type": "markdown",
   "metadata": {},
   "source": [
    "The actual reward from a bandit is stochastic, the algorithm learns a model of the Expected reward, and the actual reward is random with q∗(At) as mean (expectation) and variance 1."
   ]
  },
  {
   "cell_type": "code",
   "execution_count": 4,
   "metadata": {
    "collapsed": true
   },
   "outputs": [],
   "source": [
    "# the bandit returns the actual reward from the true model\n",
    "def bandit(row, a):\n",
    "    r = models[row, a] + np.random.normal()\n",
    "    return r"
   ]
  },
  {
   "cell_type": "markdown",
   "metadata": {},
   "source": [
    "### Reward Optimization method: epsilon-greedy"
   ]
  },
  {
   "cell_type": "code",
   "execution_count": 5,
   "metadata": {
    "collapsed": true
   },
   "outputs": [],
   "source": [
    "# ε-greedy method\n",
    "def epsilon_greedy(Q, epsilon):\n",
    "    a =  np.random.choice(range(10)) if np.random.sample() < epsilon else np.argmax(Q)\n",
    "    return a"
   ]
  },
  {
   "cell_type": "markdown",
   "metadata": {},
   "source": [
    "### Action value estimation methods: average vs contant-step"
   ]
  },
  {
   "cell_type": "markdown",
   "metadata": {},
   "source": [
    "The estimator of the action values is the averages of the observed rewards for each action.\n",
    "To compute these estimators with minimum computational cost, we apply an incremental formula for updating averages with small, constant computation required to process\n",
    "each new reward."
   ]
  },
  {
   "cell_type": "code",
   "execution_count": 6,
   "metadata": {
    "collapsed": true
   },
   "outputs": [],
   "source": [
    "def update_rule(old_estimate, target, step_size):\n",
    "    new_estimate = old_estimate + step_size * (target - old_estimate)\n",
    "    return new_estimate"
   ]
  },
  {
   "cell_type": "markdown",
   "metadata": {},
   "source": [
    "#### Part 1: average update rule"
   ]
  },
  {
   "cell_type": "code",
   "execution_count": 7,
   "metadata": {
    "collapsed": false
   },
   "outputs": [],
   "source": [
    "Qs = np.zeros(shape=(n, k))\n",
    "num_steps = 5000\n",
    "epsilon = .01\n",
    " \n",
    "# ratio for plotting performance\n",
    "ratio_est_vs_opt = np.zeros(shape=(n, num_steps))\n",
    "\n",
    "# for each model\n",
    "for i in range(n):\n",
    "    N = np.zeros(k) # action_counters\n",
    "    # accumulators for plotting performance\n",
    "    rewards_accum = 0\n",
    "    opt_rewards_accum = 0\n",
    "    # 1 run\n",
    "    for t in range(num_steps):       \n",
    "        # estimate best action, based on estimated action-values, with epsilon-greedy method\n",
    "        a = epsilon_greedy(Qs[i,:], epsilon)\n",
    "        \n",
    "        # simulate the brownian motion of the model\n",
    "        model_random_walk(i)\n",
    "        \n",
    "        # act and collect the actual reward from the bandit\n",
    "        reward = bandit(i, a)\n",
    "\n",
    "        # update our estimate of the action value \n",
    "        N[a] += 1\n",
    "        Qs[i, a] = update_rule(Qs[i, a], reward, 1/N[a])\n",
    "              \n",
    "        # store the ratio of epsilon-greedy vs optimal at each step for plotting\n",
    "        rewards_accum += reward\n",
    "        opt_rewards_accum += bandit(i, np.argmax(models[i, :]))\n",
    "        ratio_est_vs_opt[i, t] = rewards_accum / opt_rewards_accum\n",
    "        #print i, q_opt[i], a, opt_rewards_accum, rewards_accum, ratio_est_vs_opt[i, t]\n",
    "    #print\n",
    "# average performance over all models\n",
    "avg_ratio_all_models = np.mean(ratio_est_vs_opt, 0) # mean along rows (avg of each step over all models)"
   ]
  },
  {
   "cell_type": "code",
   "execution_count": 8,
   "metadata": {
    "collapsed": false
   },
   "outputs": [
    {
     "data": {
      "text/plain": [
       "[<matplotlib.lines.Line2D at 0x7fd889061a10>]"
      ]
     },
     "execution_count": 8,
     "metadata": {},
     "output_type": "execute_result"
    },
    {
     "data": {
      "image/png": "[encoded data removed]",
      "text/plain": [
       "<matplotlib.figure.Figure at 0x7fd89023e610>"
      ]
     },
     "metadata": {},
     "output_type": "display_data"
    }
   ],
   "source": [
    "plt.plot(ratio_est_vs_opt[0,:])"
   ]
  },
  {
   "cell_type": "code",
   "execution_count": 9,
   "metadata": {
    "collapsed": false
   },
   "outputs": [
    {
     "data": {
      "text/plain": [
       "[<matplotlib.lines.Line2D at 0x7fd88905b110>]"
      ]
     },
     "execution_count": 9,
     "metadata": {},
     "output_type": "execute_result"
    },
    {
     "data": {
      "image/png": "[encoded data removed]",
      "text/plain": [
       "<matplotlib.figure.Figure at 0x7fd8890f8310>"
      ]
     },
     "metadata": {},
     "output_type": "display_data"
    }
   ],
   "source": [
    "plt.plot(avg_ratio_all_models)"
   ]
  },
  {
   "cell_type": "markdown",
   "metadata": {
    "collapsed": true
   },
   "source": [
    "#### Part 2: update rule ( constant step-size)"
   ]
  },
  {
   "cell_type": "code",
   "execution_count": 10,
   "metadata": {
    "collapsed": true
   },
   "outputs": [],
   "source": [
    "models = np.zeros(shape=(n, k))\n",
    "Qs = np.zeros(shape=(n, k))\n",
    "num_steps = 5000\n",
    "epsilon = .01\n",
    "\n",
    "# constant step-size\n",
    "alpha = 0.1\n",
    " \n",
    "# ratio for plotting performance\n",
    "ratio_est_vs_opt = np.zeros(shape=(n, num_steps))\n",
    "\n",
    "# for each model\n",
    "for i in range(n):\n",
    "    # accumulators for plotting performance\n",
    "    rewards_accum = 0\n",
    "    opt_rewards_accum = 0\n",
    "    # 1 run\n",
    "    for t in range(num_steps):       \n",
    "        # estimate best action, based on estimated action-values, with epsilon-greedy method\n",
    "        a = epsilon_greedy(Qs[i,:], epsilon)\n",
    "        \n",
    "        # simulate the brownian motion of the model\n",
    "        model_random_walk(i)\n",
    "        \n",
    "        # act and collect the actual reward from the bandit\n",
    "        reward = bandit(i, a)\n",
    "\n",
    "        # update our estimate of the action value \n",
    "        Qs[i, a] = update_rule(Qs[i, a], reward, alpha)\n",
    "              \n",
    "        # store the ratio of epsilon-greedy vs optimal at each step for plotting\n",
    "        rewards_accum += reward\n",
    "        opt_rewards_accum += bandit(i, np.argmax(models[i, :]))\n",
    "        ratio_est_vs_opt[i, t] = rewards_accum / opt_rewards_accum\n",
    "\n",
    "# average performance over all models\n",
    "avg_ratio_all_models = np.mean(ratio_est_vs_opt, 0) # mean along rows (avg of each step over all models)"
   ]
  },
  {
   "cell_type": "code",
   "execution_count": 11,
   "metadata": {
    "collapsed": false
   },
   "outputs": [
    {
     "data": {
      "text/plain": [
       "[<matplotlib.lines.Line2D at 0x7fd883e1d6d0>]"
      ]
     },
     "execution_count": 11,
     "metadata": {},
     "output_type": "execute_result"
    },
    {
     "data": {
      "image/png": "[encoded data removed]",
      "text/plain": [
       "<matplotlib.figure.Figure at 0x7fd888a7a490>"
      ]
     },
     "metadata": {},
     "output_type": "display_data"
    }
   ],
   "source": [
    "plt.plot(ratio_est_vs_opt[0,:])"
   ]
  },
  {
   "cell_type": "code",
   "execution_count": 12,
   "metadata": {
    "collapsed": false
   },
   "outputs": [
    {
     "data": {
      "text/plain": [
       "[<matplotlib.lines.Line2D at 0x7fd883d5a590>]"
      ]
     },
     "execution_count": 12,
     "metadata": {},
     "output_type": "execute_result"
    },
    {
     "data": {
      "image/png": "[encoded data removed]",
      "text/plain": [
       "<matplotlib.figure.Figure at 0x7fd883dd2e90>"
      ]
     },
     "metadata": {},
     "output_type": "display_data"
    }
   ],
   "source": [
    "plt.plot(avg_ratio_all_models)"
   ]
  },
  {
   "cell_type": "code",
   "execution_count": null,
   "metadata": {
    "collapsed": true
   },
   "outputs": [],
   "source": []
  }
 ],
 "metadata": {
  "anaconda-cloud": {},
  "kernelspec": {
   "display_name": "Python [conda root]",
   "language": "python",
   "name": "conda-root-py"
  },
  "language_info": {
   "codemirror_mode": {
    "name": "ipython",
    "version": 2
   },
   "file_extension": ".py",
   "mimetype": "text/x-python",
   "name": "python",
   "nbconvert_exporter": "python",
   "pygments_lexer": "ipython2",
   "version": "2.7.12"
  }
 },
 "nbformat": 4,
 "nbformat_minor": 1
}
