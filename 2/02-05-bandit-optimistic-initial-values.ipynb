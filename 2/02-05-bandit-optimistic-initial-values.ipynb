{
 "cells": [
  {
   "cell_type": "markdown",
   "metadata": {},
   "source": [
    "# The k-Armed Bandit Problem\n",
    "\n",
    "A bandit is a slot machine with k arms, this is a simplified setting, one that does not involve learning to act in more than one situation (a.k.a. nonassociative setting.)"
   ]
  },
  {
   "cell_type": "markdown",
   "metadata": {},
   "source": [
    "The actual reward from a bandit is stochastic, the algorithm learns a model of the Expected reward, and the actual reward is random with q∗(At) as mean (expectation) and variance 1."
   ]
  },
  {
   "cell_type": "markdown",
   "metadata": {},
   "source": [
    "### 10-armed bandits testbed (stationary distribution)"
   ]
  },
  {
   "cell_type": "code",
   "execution_count": 35,
   "metadata": {
    "collapsed": true
   },
   "outputs": [],
   "source": [
    "from __future__ import division\n",
    "import numpy as np\n",
    "import matplotlib.pyplot as plt\n",
    "%matplotlib inline"
   ]
  },
  {
   "cell_type": "code",
   "execution_count": 36,
   "metadata": {
    "collapsed": false
   },
   "outputs": [
    {
     "data": {
      "text/plain": [
       "array([[ 0.28169638,  0.9931327 , -1.65791675, -1.4304641 , -0.51926051,\n",
       "        -0.79534805, -1.20951424, -1.33328975, -0.77566334, -0.36493265]])"
      ]
     },
     "execution_count": 36,
     "metadata": {},
     "output_type": "execute_result"
    }
   ],
   "source": [
    "n = 2000\n",
    "k = 10\n",
    "models = np.random.normal(0.0, 1.0, size=(n, k))\n",
    "\n",
    "models[0:1,:]"
   ]
  },
  {
   "cell_type": "code",
   "execution_count": 37,
   "metadata": {
    "collapsed": true
   },
   "outputs": [],
   "source": [
    "# the bandit returns the actual reward from the true model\n",
    "def bandit(row, a):\n",
    "    r = models[row, a] + np.random.normal()\n",
    "    return r"
   ]
  },
  {
   "cell_type": "markdown",
   "metadata": {},
   "source": [
    "### Optimistic Initial Values\n",
    "All values of Q are initialized to +5 which is wildly optimistic. This optimism encourages action-value\n",
    "methods to explore. Whichever actions are initially selected, the reward is less than\n",
    "the starting estimates; the learner switches to other actions, being “disappointed”\n",
    "with the rewards it is receiving. The result is that all actions are tried several times\n",
    "before the value estimates converge. The system does a fair amount of exploration\n",
    "even if greedy actions are selected all the time\n"
   ]
  },
  {
   "cell_type": "markdown",
   "metadata": {},
   "source": [
    "### Reward optimization method: epsilon-greedy"
   ]
  },
  {
   "cell_type": "code",
   "execution_count": 38,
   "metadata": {
    "collapsed": true
   },
   "outputs": [],
   "source": [
    "# ε-greedy method\n",
    "def epsilon_greedy(Q, epsilon):\n",
    "    a =  np.random.choice(range(10)) if np.random.sample() < epsilon else np.argmax(Q)\n",
    "    return a"
   ]
  },
  {
   "cell_type": "markdown",
   "metadata": {},
   "source": [
    "### Action value estimation: average "
   ]
  },
  {
   "cell_type": "markdown",
   "metadata": {},
   "source": [
    "The estimator of the action values is the averages of the observed rewards for each action.\n",
    "To compute these estimators with minimum computational cost, we apply an incremental formula for updating averages with small, constant computation required to process\n",
    "each new reward."
   ]
  },
  {
   "cell_type": "code",
   "execution_count": 39,
   "metadata": {
    "collapsed": true
   },
   "outputs": [],
   "source": [
    "def update_rule(old_estimate, target, step_size):\n",
    "    new_estimate = old_estimate + step_size * (target - old_estimate)\n",
    "    return new_estimate"
   ]
  },
  {
   "cell_type": "code",
   "execution_count": 48,
   "metadata": {
    "collapsed": false
   },
   "outputs": [],
   "source": [
    "optimism = 0\n",
    "Qs = np.ones(shape=(n, k)) * optimism\n",
    "num_steps = 1000\n",
    "epsilon = .01\n",
    " \n",
    "# ratio for plotting performance\n",
    "ratio_est_vs_opt = np.zeros(shape=(n, num_steps))\n",
    "# accumulators for plotting performance\n",
    "rewards_accum =   np.zeros(shape=(n, num_steps))\n",
    "opt_rewards_accum =   np.zeros(shape=(n, num_steps)) + 1/10**6 # avoid division by zero at step zero\n",
    "    \n",
    "# for each model\n",
    "for i in range(n):\n",
    "    N = np.zeros(k) # action_counters\n",
    "    \n",
    "    # 1 run\n",
    "    for t in range(num_steps):       \n",
    "        # estimate best action, based on estimated action-values, with epsilon-greedy method\n",
    "        a = epsilon_greedy(Qs[i,:], epsilon)\n",
    "        \n",
    "        # act and collect the actual reward from the bandit\n",
    "        reward = bandit(i, a)\n",
    "\n",
    "        # update our estimate of the action value \n",
    "        N[a] += 1\n",
    "        Qs[i, a] = update_rule(Qs[i, a], reward, 1/N[a])\n",
    "              \n",
    "        # store the accumulators to calculate the ratio of epsilon-greedy vs optimal at each step for plotting\n",
    "        if t > 0:\n",
    "            rewards_accum[i, t] = rewards_accum[i, t-1] + reward\n",
    "            opt_rewards_accum[i, t] = opt_rewards_accum[i, t-1] + bandit(i, np.argmax(models[i,:]))\n",
    "\n",
    "# Compute ratio of cumulative rewards\n",
    "# The stationary bandit test bed often contains commulative rewards that are close to zero\n",
    "# I average over the 2000 models before computing the ratio\n",
    "\n",
    "# mean along rows (avg of each step over all models)\n",
    "avg_rewards_accum = np.mean(rewards_accum, 0)\n",
    "avg_opt_rewards_accum = np.mean(opt_rewards_accum, 0)\n",
    "\n",
    "#  average performance over all models\n",
    "avg_ratio_est_vs_opt = avg_rewards_accum / avg_opt_rewards_accum"
   ]
  },
  {
   "cell_type": "code",
   "execution_count": 49,
   "metadata": {
    "collapsed": false
   },
   "outputs": [
    {
     "data": {
      "text/plain": [
       "[<matplotlib.lines.Line2D at 0x7f52a99d8210>]"
      ]
     },
     "execution_count": 49,
     "metadata": {},
     "output_type": "execute_result"
    },
    {
     "data": {
      "image/png": "[encoded data removed]",
      "text/plain": [
       "<matplotlib.figure.Figure at 0x7f52a9ca2910>"
      ]
     },
     "metadata": {},
     "output_type": "display_data"
    }
   ],
   "source": [
    "plt.plot(avg_ratio_est_vs_opt)"
   ]
  },
  {
   "cell_type": "code",
   "execution_count": null,
   "metadata": {
    "collapsed": true
   },
   "outputs": [],
   "source": []
  }
 ],
 "metadata": {
  "anaconda-cloud": {},
  "kernelspec": {
   "display_name": "Python [conda root]",
   "language": "python",
   "name": "conda-root-py"
  },
  "language_info": {
   "codemirror_mode": {
    "name": "ipython",
    "version": 2
   },
   "file_extension": ".py",
   "mimetype": "text/x-python",
   "name": "python",
   "nbconvert_exporter": "python",
   "pygments_lexer": "ipython2",
   "version": "2.7.12"
  }
 },
 "nbformat": 4,
 "nbformat_minor": 0
}
