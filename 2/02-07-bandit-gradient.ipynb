{
 "cells": [
  {
   "cell_type": "markdown",
   "metadata": {},
   "source": [
    "# The k-Armed Bandit Problem\n",
    "\n",
    "A bandit is a slot machine with k arms, this is a simplified setting, one that does not involve learning to act in more than one situation (a.k.a. nonassociative setting.)"
   ]
  },
  {
   "cell_type": "markdown",
   "metadata": {},
   "source": [
    "The actual reward from a bandit is stochastic, the algorithm learns a model of the Expected reward, and the actual reward is random with q∗(At) as mean (expectation) and variance 1."
   ]
  },
  {
   "cell_type": "code",
   "execution_count": 4,
   "metadata": {
    "collapsed": true
   },
   "outputs": [],
   "source": [
    "from __future__ import division\n",
    "import numpy as np\n",
    "import matplotlib.pyplot as plt\n",
    "%matplotlib inline"
   ]
  },
  {
   "cell_type": "markdown",
   "metadata": {},
   "source": [
    "### 10-armed bandits testbed (stationary distribution)"
   ]
  },
  {
   "cell_type": "code",
   "execution_count": 5,
   "metadata": {
    "collapsed": false
   },
   "outputs": [
    {
     "data": {
      "text/plain": [
       "array([[-0.11523079,  0.00737159,  0.84142433,  2.0391037 , -0.11242762,\n",
       "         0.10637501]])"
      ]
     },
     "execution_count": 5,
     "metadata": {},
     "output_type": "execute_result"
    }
   ],
   "source": [
    "n = 40\n",
    "k = 6\n",
    "models = np.random.normal(0.0, 1.0, size=(n, k))\n",
    "\n",
    "models[0:1,:]"
   ]
  },
  {
   "cell_type": "code",
   "execution_count": 6,
   "metadata": {
    "collapsed": true
   },
   "outputs": [],
   "source": [
    "# the bandit returns the actual reward from the true model\n",
    "def bandit(row, a):\n",
    "    r = models[row, a] + np.random.normal()\n",
    "    return r"
   ]
  },
  {
   "cell_type": "markdown",
   "metadata": {},
   "source": [
    "### Action selection method: sample from a softmax (synthetic distribution based on preferences)\n",
    "In this section we consider learning a numerical preference Ht(a) for each action a. The larger the preference, the more often that action is taken, but the preference has no interpretation in terms of reward. Only the relative preference of one action over another is important;"
   ]
  },
  {
   "cell_type": "code",
   "execution_count": 7,
   "metadata": {
    "collapsed": true
   },
   "outputs": [],
   "source": [
    "# H : preference values for each action (logits)\n",
    "def soft_max(H):\n",
    "    eH = np.exp(H)\n",
    "    pi = eH/sum(eH)  # Boltzmann distribution\n",
    "    a = np.argmax(pi)\n",
    "    return a, pi"
   ]
  },
  {
   "cell_type": "code",
   "execution_count": 8,
   "metadata": {
    "collapsed": true
   },
   "outputs": [],
   "source": [
    "def update_rule(old_estimate, target, step_size):\n",
    "    new_estimate = old_estimate + step_size * (target - old_estimate)\n",
    "    return new_estimate"
   ]
  },
  {
   "cell_type": "markdown",
   "metadata": {},
   "source": [
    "Initially all preferences are the same (e.g., H(a) = 0, ∀a) so that all actions have an equal probability of being selected."
   ]
  },
  {
   "cell_type": "code",
   "execution_count": 11,
   "metadata": {
    "collapsed": false
   },
   "outputs": [],
   "source": [
    "num_steps = 10000\n",
    "alpha = 0.1 # learning rate / step-size\n",
    " \n",
    "# ratio for plotting performance\n",
    "ratio_est_vs_opt = np.zeros(shape=(n, num_steps))\n",
    "# accumulators for plotting performance\n",
    "rewards_accum =   np.zeros(shape=(n, num_steps))\n",
    "opt_rewards_accum =   np.zeros(shape=(n, num_steps)) + 1/10**6 # avoid division by zero at step zero\n",
    "    \n",
    "# for each model\n",
    "for i in range(n):\n",
    "    # action counters\n",
    "    N = np.zeros(k) \n",
    "    \n",
    "    # action preferences (initialized with small random numbers)\n",
    "    #H = np.random.normal(1, 10**(-6), size=(k))\n",
    "    H = np.zeros(k)\n",
    "    \n",
    "    # average rewards up until time t\n",
    "    mean_reward = 0.0\n",
    "    \n",
    "    # 1 run\n",
    "    for t in range(num_steps):       \n",
    "        # select action, based on a learned soft-max distribution\n",
    "        a, pi = soft_max(H)\n",
    "        \n",
    "        # act and collect the actual reward from the bandit\n",
    "        reward = bandit(i, a)\n",
    "\n",
    "        # update the average reward\n",
    "        N[a] += 1\n",
    "        mean_reward = update_rule(mean_reward, reward, 1/N[a])\n",
    "        \n",
    "        # update the learned probabilities\n",
    "        H[a] = H[a] + alpha * (reward - mean_reward) * (1-pi[a])\n",
    "        for j in range(k):\n",
    "            if j != a:\n",
    "                H[j] = H[j] - alpha * (reward - mean_reward) * pi[j]\n",
    "              \n",
    "        # store the accumulators to calculate the ratio of epsilon-greedy vs optimal at each step for plotting\n",
    "        if t > 0:\n",
    "            rewards_accum[i, t] = rewards_accum[i, t-1] + reward\n",
    "            opt_rewards_accum[i, t] = opt_rewards_accum[i, t-1] + bandit(i, np.argmax(models[i,:]))\n",
    "\n",
    "# Compute ratio of cumulative rewards\n",
    "# The stationary bandit test bed often contains commulative rewards that are close to zero\n",
    "# I average over the 2000 models before computing the ratio\n",
    "\n",
    "# mean along rows (avg of each step over all models)\n",
    "avg_rewards_accum = np.mean(rewards_accum, 0)\n",
    "avg_opt_rewards_accum = np.mean(opt_rewards_accum, 0)\n",
    "\n",
    "#  average performance over all models\n",
    "avg_ratio_est_vs_opt = avg_rewards_accum / avg_opt_rewards_accum"
   ]
  },
  {
   "cell_type": "code",
   "execution_count": 12,
   "metadata": {
    "collapsed": false
   },
   "outputs": [
    {
     "data": {
      "text/plain": [
       "[<matplotlib.lines.Line2D at 0x7f8cd0d72b90>]"
      ]
     },
     "execution_count": 12,
     "metadata": {},
     "output_type": "execute_result"
    },
    {
     "data": {
      "image/png": "[encoded data removed]",
      "text/plain": [
       "<matplotlib.figure.Figure at 0x7f8cd0c6d950>"
      ]
     },
     "metadata": {},
     "output_type": "display_data"
    }
   ],
   "source": [
    "plt.plot(avg_ratio_est_vs_opt)"
   ]
  },
  {
   "cell_type": "code",
   "execution_count": null,
   "metadata": {
    "collapsed": true
   },
   "outputs": [],
   "source": []
  }
 ],
 "metadata": {
  "anaconda-cloud": {},
  "kernelspec": {
   "display_name": "Python [conda root]",
   "language": "python",
   "name": "conda-root-py"
  },
  "language_info": {
   "codemirror_mode": {
    "name": "ipython",
    "version": 2
   },
   "file_extension": ".py",
   "mimetype": "text/x-python",
   "name": "python",
   "nbconvert_exporter": "python",
   "pygments_lexer": "ipython2",
   "version": "2.7.12"
  }
 },
 "nbformat": 4,
 "nbformat_minor": 0
}
