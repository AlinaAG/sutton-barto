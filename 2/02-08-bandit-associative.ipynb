{
 "cells": [
  {
   "cell_type": "markdown",
   "metadata": {},
   "source": [
    "# The k-Armed Bandit Problem\n",
    "\n",
    "A bandit is a slot machine with k arms, this is a simplified setting, one that does not involve learning to act in more than one situation (a.k.a. nonassociative setting.)"
   ]
  },
  {
   "cell_type": "markdown",
   "metadata": {},
   "source": [
    "The actual reward from a bandit is stochastic, the algorithm learns a model of the Expected reward, and the actual reward is random with q∗(At) as mean (expectation) and variance 1."
   ]
  },
  {
   "cell_type": "code",
   "execution_count": 1,
   "metadata": {
    "collapsed": true
   },
   "outputs": [],
   "source": [
    "from __future__ import division\n",
    "import numpy as np\n",
    "import matplotlib.pyplot as plt\n",
    "%matplotlib inline"
   ]
  },
  {
   "cell_type": "markdown",
   "metadata": {},
   "source": [
    "### 10-armed bandits testbed (stationary distribution with state)"
   ]
  },
  {
   "cell_type": "code",
   "execution_count": 2,
   "metadata": {
    "collapsed": false
   },
   "outputs": [
    {
     "data": {
      "text/plain": [
       "array([[ 1.73878096,  1.08258046, -0.49139022,  1.4586219 ,  1.564148  ]])"
      ]
     },
     "execution_count": 2,
     "metadata": {},
     "output_type": "execute_result"
    }
   ],
   "source": [
    "n = 50\n",
    "k = 5\n",
    "states = ['green', 'red', 'yellow']\n",
    "models = {}\n",
    "for s in states:\n",
    "    models[s] = np.random.normal(0.0, 1.0, size=(n, k))\n",
    "\n",
    "models['green'][0:1,:]"
   ]
  },
  {
   "cell_type": "code",
   "execution_count": 3,
   "metadata": {
    "collapsed": true
   },
   "outputs": [],
   "source": [
    "# the bandit returns the actual reward from the true model\n",
    "def bandit(s, iRow, a):\n",
    "    r = models[s][iRow, a] + np.random.normal()\n",
    "    return r"
   ]
  },
  {
   "cell_type": "markdown",
   "metadata": {},
   "source": [
    "in a general reinforcement learning task there is more than one situation,\n",
    "and the goal is to learn a policy: a mapping from situations to the actions that are\n",
    "best in those situations."
   ]
  },
  {
   "cell_type": "markdown",
   "metadata": {},
   "source": [
    "### Action selection method: sample from a softmax (synthetic distribution based on preferences)\n",
    "In this section we consider learning a numerical preference Ht(a) for each action a. The larger the preference, the more often that action is taken, but the preference has no interpretation in terms of reward. Only the relative preference of one action over another is important. \n",
    "The slot machine that changes the color of its display as it changes its action values. Now you can learn a policy associating each task, signaled by the color you see, with the best action to take when facing that\n",
    "task—for instance, if red, select arm 1; if green, select arm 2.\n",
    "This is an example of an associative search task, so called because it involves both trial-and-error learning in the form of search for the best actions and association of these actions with the situations in which they are best.\n",
    "\n",
    "Full Reinforcemen Learning Process\n",
    "1. read the curren state s\n",
    "2. select the action-value that corresponds to s\n",
    "3. select the best action according to one of the algorithms previously studied"
   ]
  },
  {
   "cell_type": "code",
   "execution_count": 4,
   "metadata": {
    "collapsed": true
   },
   "outputs": [],
   "source": [
    "# H : preference values for each action (logits\n",
    "def soft_max(H):\n",
    "    eH = np.exp(H)\n",
    "    pi = eH/sum(eH)  # Boltzmann distribution\n",
    "    a = np.argmax(pi)\n",
    "    return a, pi"
   ]
  },
  {
   "cell_type": "code",
   "execution_count": 5,
   "metadata": {
    "collapsed": true
   },
   "outputs": [],
   "source": [
    "def update_rule(old_estimate, target, step_size):\n",
    "    new_estimate = old_estimate + step_size * (target - old_estimate)\n",
    "    return new_estimate"
   ]
  },
  {
   "cell_type": "markdown",
   "metadata": {},
   "source": [
    "Initially all preferences are the same (e.g., H(a) = 0, ∀a) so that all actions have an equal probability of being selected."
   ]
  },
  {
   "cell_type": "code",
   "execution_count": 6,
   "metadata": {
    "collapsed": false
   },
   "outputs": [
    {
     "data": {
      "text/plain": [
       "array(['red', 'yellow', 'green', 'yellow', 'red'], \n",
       "      dtype='|S6')"
      ]
     },
     "execution_count": 6,
     "metadata": {},
     "output_type": "execute_result"
    }
   ],
   "source": [
    "alpha = 0.1 # learning rate / step-size\n",
    "num_steps = 100000\n",
    "state_time_series = np.random.choice(states, num_steps, p=[1/len(states) for _ in range(len(states))])\n",
    "state_time_series[0:5]"
   ]
  },
  {
   "cell_type": "code",
   "execution_count": 7,
   "metadata": {
    "collapsed": false
   },
   "outputs": [],
   "source": [
    "# ratio for plotting performance\n",
    "ratio_est_vs_opt = np.zeros(shape=(n, num_steps))\n",
    "# accumulators for plotting performance\n",
    "rewards_accum =   np.zeros(shape=(n, num_steps))\n",
    "opt_rewards_accum =   np.zeros(shape=(n, num_steps)) + 1/10**6 # avoid division by zero at step zero\n",
    "    \n",
    "# for each model\n",
    "for i in range(n):\n",
    "    \n",
    "    # action counters\n",
    "    N = {}\n",
    "    for s in states:\n",
    "        N[s] = np.zeros(k) \n",
    "    \n",
    "    # action preferences\n",
    "    Hs = {}\n",
    "    for s in states:\n",
    "        #Hs[s] =  np.random.normal(1, 10**(-1), size=(k)) \n",
    "        Hs[s] =  np.zeros(k) \n",
    "    \n",
    "    # average rewards up until time t\n",
    "    mean_reward = {}\n",
    "    for s in states:\n",
    "        mean_reward[s] = 0.0\n",
    "    \n",
    "    # 1 run\n",
    "    for t in range(num_steps): \n",
    "        \n",
    "        # read the current state\n",
    "        s = state_time_series[t]\n",
    "        \n",
    "        # select action, based on a learned soft-max distribution\n",
    "        a, pi = soft_max(Hs[s])\n",
    "        \n",
    "        # act and collect the actual reward from the bandit\n",
    "        reward = bandit(s, i, a)\n",
    "\n",
    "        # update the average reward\n",
    "        N[s][a] += 1\n",
    "        mean_reward[s] = update_rule(mean_reward[s], reward, 1/N[s][a])\n",
    "        \n",
    "        # update the learned probabilities\n",
    "        Hs[s][a] = Hs[s][a] + alpha * (reward - mean_reward[s]) * (1-pi[a])\n",
    "        for j in range(k):\n",
    "            if j != a:\n",
    "                Hs[s][j] = Hs[s][j] - alpha * (reward - mean_reward[s]) * pi[j]\n",
    "              \n",
    "        # store the accumulators to calculate the ratio of epsilon-greedy vs optimal at each step for plotting\n",
    "        if t > 0:\n",
    "            rewards_accum[i, t] = rewards_accum[i, t-1] + reward\n",
    "            opt_rewards_accum[i, t] = opt_rewards_accum[i, t-1] + bandit(s, i, np.argmax(models[s][i,:]))\n",
    "\n",
    "# Compute ratio of cumulative rewards\n",
    "# The stationary bandit test bed often contains commulative rewards that are close to zero\n",
    "# I average over the 2000 models before computing the ratio\n",
    "\n",
    "# mean along rows (avg of each step over all models)\n",
    "avg_rewards_accum = np.mean(rewards_accum, 0)\n",
    "avg_opt_rewards_accum = np.mean(opt_rewards_accum, 0)\n",
    "\n",
    "#  average performance over all models\n",
    "avg_ratio_est_vs_opt = avg_rewards_accum / avg_opt_rewards_accum"
   ]
  },
  {
   "cell_type": "code",
   "execution_count": 8,
   "metadata": {
    "collapsed": false
   },
   "outputs": [
    {
     "data": {
      "text/plain": [
       "[<matplotlib.lines.Line2D at 0x7f800c47f810>]"
      ]
     },
     "execution_count": 8,
     "metadata": {},
     "output_type": "execute_result"
    },
    {
     "data": {
      "image/png": "[encoded data removed]",
      "text/plain": [
       "<matplotlib.figure.Figure at 0x7f801366d490>"
      ]
     },
     "metadata": {},
     "output_type": "display_data"
    }
   ],
   "source": [
    "plt.plot(avg_ratio_est_vs_opt)  # try plotting 1 of each 100 point?"
   ]
  },
  {
   "cell_type": "code",
   "execution_count": null,
   "metadata": {
    "collapsed": true
   },
   "outputs": [],
   "source": []
  }
 ],
 "metadata": {
  "anaconda-cloud": {},
  "kernelspec": {
   "display_name": "Python [conda root]",
   "language": "python",
   "name": "conda-root-py"
  },
  "language_info": {
   "codemirror_mode": {
    "name": "ipython",
    "version": 2
   },
   "file_extension": ".py",
   "mimetype": "text/x-python",
   "name": "python",
   "nbconvert_exporter": "python",
   "pygments_lexer": "ipython2",
   "version": "2.7.12"
  }
 },
 "nbformat": 4,
 "nbformat_minor": 0
}
