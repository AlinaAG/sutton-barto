{
 "cells": [
  {
   "cell_type": "markdown",
   "metadata": {},
   "source": [
    "# Bandit Problem"
   ]
  },
  {
   "cell_type": "markdown",
   "metadata": {},
   "source": [
    "### 10-armed testbed"
   ]
  },
  {
   "cell_type": "markdown",
   "metadata": {},
   "source": [
    "Create a set of 2000 randomly generated 10-armed bandit problems.\n",
    "Each row of the matrix is one of the 2000 bandit problems, each column is the Expected value of each one of its 10 actions, q∗(a), a = 1, . . . , 10, which is distributed normally with mean 0 and variance 1. "
   ]
  },
  {
   "cell_type": "code",
   "execution_count": 2,
   "metadata": {
    "collapsed": true
   },
   "outputs": [],
   "source": [
    "import numpy as np\n",
    "import matplotlib.pyplot as plt\n",
    "%matplotlib inline"
   ]
  },
  {
   "cell_type": "code",
   "execution_count": 3,
   "metadata": {
    "collapsed": false
   },
   "outputs": [
    {
     "data": {
      "text/plain": [
       "array([[ 0.94521713, -1.03727326, -0.8856681 , -0.19198012,  0.27880184,\n",
       "         0.35683476, -0.6336716 , -0.28255084, -0.03443657,  0.18232011]])"
      ]
     },
     "execution_count": 3,
     "metadata": {},
     "output_type": "execute_result"
    }
   ],
   "source": [
    "n = 2000\n",
    "k = 10\n",
    "bandits = np.random.normal(0.0, 1.0, size=(n, k))\n",
    "\n",
    "bandits[0:1,:]"
   ]
  },
  {
   "cell_type": "markdown",
   "metadata": {},
   "source": [
    "### ε-greedy method (Sutton-Barto 2.2)"
   ]
  },
  {
   "cell_type": "markdown",
   "metadata": {},
   "source": [
    "Greedy action: q∗(At), the action with maximum reward."
   ]
  },
  {
   "cell_type": "code",
   "execution_count": 4,
   "metadata": {
    "collapsed": false
   },
   "outputs": [
    {
     "data": {
      "text/plain": [
       "array([0])"
      ]
     },
     "execution_count": 4,
     "metadata": {},
     "output_type": "execute_result"
    }
   ],
   "source": [
    "# greedy action index\n",
    "q_At = np.argmax(bandits, 1)  # max along columns (max of each row)\n",
    "#print q_At.shape\n",
    "q_At[0:1]"
   ]
  },
  {
   "cell_type": "markdown",
   "metadata": {},
   "source": [
    "When a greedy method is applied to the 10-armed testbed, the algorithm chooses the action mith maximum expected reward, this action is called the greedy action q∗(At). Note that the actual reward is stochastic, the model only knows the Expected reward, and the actual reward is random with q∗(At) as mean (expectation) and variance 1."
   ]
  },
  {
   "cell_type": "code",
   "execution_count": 5,
   "metadata": {
    "collapsed": false
   },
   "outputs": [],
   "source": [
    "# ε-greedy method (Sutton-Barto 2.2)\n",
    "Qs = np.zeros(shape=(n, k))\n",
    "num_steps = 100\n",
    "epsilon = .1\n",
    "ratio_est_vs_opt = np.zeros(shape=(n,num_steps))\n",
    "# for each model\n",
    "for i in range(n):\n",
    "    action_cum_reward = np.zeros(k)\n",
    "    action_count = np.zeros(k)\n",
    "    # 1 run\n",
    "    for t in range(num_steps):       \n",
    "        # estimate action value with epsilon-greedy method\n",
    "        At = np.random.choice(range(10)) if np.random.sample() < epsilon else np.argmax(Qs[i,:])\n",
    "        action_cum_reward[At] += Qs[i,At] + np.random.normal()\n",
    "        action_count[At] += 1\n",
    "        Qs[i, At] = action_cum_reward[At] / action_count[At]\n",
    "        \n",
    "        # calculate optimal reward\n",
    "        optimal_reward = bandits[i, q_At[i]]\n",
    "        \n",
    "        # store the ratio of epsilon-greedy vs optimal at each step for plotting\n",
    "        ratio_est_vs_opt[i, t] = sum(action_cum_reward[:]) / (optimal_reward * (t+1))\n",
    "    \n",
    "# average performance over all models\n",
    "avg_ratio_all_models = np.mean(ratio_est_vs_opt, 0) # mean along rows (avg of each step over all models)"
   ]
  },
  {
   "cell_type": "markdown",
   "metadata": {},
   "source": [
    "In the limit as the number of steps increases, every action will be sampled an infinite\n",
    "number of times, thus ensuring that all the Qt(a) converge to q∗(a). This implies that the probability of selecting the optimal action converges to greater than 1 − ε, that is, to near certainty.\n",
    "\n",
    "Question: how is that possible? Note: in RL there are no 'training' and 'prediction' modes, you are always predicting and training along the way, so if the algorithm always applies the epsilon and continue drawing random actions you will never achieve performance greater than 1 − ε even if the Qs are fully trained to perfect optimal values."
   ]
  },
  {
   "cell_type": "code",
   "execution_count": 6,
   "metadata": {
    "collapsed": false
   },
   "outputs": [
    {
     "data": {
      "text/plain": [
       "[<matplotlib.lines.Line2D at 0x7f14188c0f90>]"
      ]
     },
     "execution_count": 6,
     "metadata": {},
     "output_type": "execute_result"
    },
    {
     "data": {
      "image/png": "[encoded data removed]",
      "text/plain": [
       "<matplotlib.figure.Figure at 0x7f141b24c110>"
      ]
     },
     "metadata": {},
     "output_type": "display_data"
    }
   ],
   "source": [
    "plt.plot(ratio_est_vs_opt[0,:])"
   ]
  },
  {
   "cell_type": "code",
   "execution_count": 7,
   "metadata": {
    "collapsed": false
   },
   "outputs": [
    {
     "data": {
      "text/plain": [
       "[<matplotlib.lines.Line2D at 0x7f141883a850>]"
      ]
     },
     "execution_count": 7,
     "metadata": {},
     "output_type": "execute_result"
    },
    {
     "data": {
      "image/png": "[encoded data removed]",
      "text/plain": [
       "<matplotlib.figure.Figure at 0x7f141890c190>"
      ]
     },
     "metadata": {},
     "output_type": "display_data"
    }
   ],
   "source": [
    "plt.plot(avg_ratio_all_models)"
   ]
  },
  {
   "cell_type": "code",
   "execution_count": null,
   "metadata": {
    "collapsed": true
   },
   "outputs": [],
   "source": []
  },
  {
   "cell_type": "code",
   "execution_count": null,
   "metadata": {
    "collapsed": true
   },
   "outputs": [],
   "source": []
  }
 ],
 "metadata": {
  "anaconda-cloud": {},
  "kernelspec": {
   "display_name": "Python [conda root]",
   "language": "python",
   "name": "conda-root-py"
  },
  "language_info": {
   "codemirror_mode": {
    "name": "ipython",
    "version": 2
   },
   "file_extension": ".py",
   "mimetype": "text/x-python",
   "name": "python",
   "nbconvert_exporter": "python",
   "pygments_lexer": "ipython2",
   "version": "2.7.12"
  }
 },
 "nbformat": 4,
 "nbformat_minor": 1
}
